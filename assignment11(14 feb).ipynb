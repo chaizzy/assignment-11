{
 "cells": [
  {
   "cell_type": "code",
   "execution_count": 1,
   "id": "b916c414-b209-44b4-b026-823ab7602426",
   "metadata": {},
   "outputs": [],
   "source": [
    "# ANS 1 :\n",
    "# multithreading  can be defined as ability of processor to handle multiple threads concurrently\n",
    "# thread is a instance of a process \n",
    "# a thread is a sequence of such instructions within a program that can be executed independently of other code.\n",
    "# multithreading makes your program more efficient and faster  and also better cpu utilization\n",
    "# \"threading\"  module is used to handle threads "
   ]
  },
  {
   "cell_type": "code",
   "execution_count": 2,
   "id": "7ed8610b-bca0-47c6-bdaf-9271fe2166ee",
   "metadata": {},
   "outputs": [],
   "source": [
    "# ANS 2:\n",
    "# threading module is used for controlling , creating and managing threads \n",
    "# activeCount() :used to count  currently active and running thread  \n",
    "# currentThread(): used to return the refrence of currently running thread object\n",
    "# enumerate(): enumerate method adds a counter to iterable  and returns the in the form of enumerating object "
   ]
  },
  {
   "cell_type": "code",
   "execution_count": 3,
   "id": "e88fd74c-84a8-43c2-ab1b-a9b7deb02b8b",
   "metadata": {},
   "outputs": [],
   "source": [
    "# ANS 3:\n",
    "# run() : to run a python script we use this command \n",
    "# start(): to start a given thread activity \n",
    "# join() : it provides a way to one thread to block while excuting the other thread \n",
    "# isAlive() : checks whether the thread is alive or not\n"
   ]
  },
  {
   "cell_type": "code",
   "execution_count": 15,
   "id": "bc152cd5-4901-4071-bf23-80be3e740d10",
   "metadata": {},
   "outputs": [
    {
     "name": "stdout",
     "output_type": "stream",
     "text": [
      "0\n",
      "1\n",
      "4\n",
      "9\n"
     ]
    }
   ],
   "source": [
    "# ANS 4:\n",
    "import threading\n",
    "def square(n):\n",
    "    print(n**2)\n",
    "    \n",
    "def cube(n):\n",
    "    print(n**3)\n",
    "    \n",
    "if __name__ == '__main__':\n",
    "    thread1 = [threading.Thread(target = square , args = (i,)) for i in range(4)]\n",
    "    thread2 = [threading.Thread(target = cube , args = (i,)) for i in range(4)]\n",
    "    for t in thread1:\n",
    "        t.start()\n",
    "        \n",
    "   \n",
    "    "
   ]
  },
  {
   "cell_type": "code",
   "execution_count": 16,
   "id": "a62552f8-0637-474c-9476-eea3228b421e",
   "metadata": {},
   "outputs": [
    {
     "name": "stdout",
     "output_type": "stream",
     "text": [
      "0\n",
      "1\n",
      "8\n",
      "27\n"
     ]
    }
   ],
   "source": [
    "for t in thread2:\n",
    "    t.start()"
   ]
  },
  {
   "cell_type": "code",
   "execution_count": 17,
   "id": "9746d4ee-d6c6-47b2-a551-c44896cec48e",
   "metadata": {},
   "outputs": [],
   "source": [
    "# ANS 5 :\n",
    "# advantages :\n",
    "# Simultaneous and parallelized occurrence of tasks\n",
    "# decreased cost of maintenance\n",
    "# Better use of CPU resource\n",
    "\n",
    "\n",
    "# disadvantages:\n",
    "# Complex debugging and testing processes\n",
    "# Overhead switching of context\n",
    "# Increased difficulty level in writing a program\n",
    "# Unpredictable results"
   ]
  },
  {
   "cell_type": "code",
   "execution_count": null,
   "id": "74dd8c29-5b17-4966-aa40-1efd63d72f1a",
   "metadata": {},
   "outputs": [],
   "source": [
    "# ANS 6 :\n",
    "# Deadlock :\n",
    "#A deadlock is a situation where a set of processes are blocked \n",
    "# because each process is holding a resource and waiting for another resource acquired by some other process.\n",
    "\n",
    "# Race conditions\n",
    "# when two threads use the same variable at he same time\n"
   ]
  }
 ],
 "metadata": {
  "kernelspec": {
   "display_name": "Python 3 (ipykernel)",
   "language": "python",
   "name": "python3"
  },
  "language_info": {
   "codemirror_mode": {
    "name": "ipython",
    "version": 3
   },
   "file_extension": ".py",
   "mimetype": "text/x-python",
   "name": "python",
   "nbconvert_exporter": "python",
   "pygments_lexer": "ipython3",
   "version": "3.10.8"
  }
 },
 "nbformat": 4,
 "nbformat_minor": 5
}
